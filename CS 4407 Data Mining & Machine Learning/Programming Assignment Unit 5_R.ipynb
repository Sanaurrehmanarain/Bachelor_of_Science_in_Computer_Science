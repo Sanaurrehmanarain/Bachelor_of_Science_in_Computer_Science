{
 "cells": [
  {
   "cell_type": "markdown",
   "id": "d7d09b2a",
   "metadata": {},
   "source": [
    "# ============================================================================\n",
    "# Ionosphere Radar Data - Decision Tree Classification (R)\n",
    "# Student: Sana Ur Rehman Arain\n",
    "# Course: Data Mining & Mahcine Learning\n",
    "# Assignment Activity Unit 5\n",
    "# ============================================================================"
   ]
  },
  {
   "cell_type": "markdown",
   "id": "5e79ce24",
   "metadata": {},
   "source": [
    "## Part 1: Print decision tree  \n",
    "### a. We begin by setting the working directory, loading the required packages (rpart and mlbench) and then loading the Ionosphere dataset."
   ]
  },
  {
   "cell_type": "code",
   "execution_count": 24,
   "id": "d21bdd58",
   "metadata": {
    "vscode": {
     "languageId": "r"
    }
   },
   "outputs": [],
   "source": [
    "# Set working directory (modify as needed)\n",
    "setwd(\"C:/Users/Yahya/Desktop/My folder/UOPEOPLE/Computer Science/CS 4407 Data Mining & Machine Learning\")"
   ]
  },
  {
   "cell_type": "code",
   "execution_count": 25,
   "id": "f57f3c6a",
   "metadata": {
    "vscode": {
     "languageId": "r"
    }
   },
   "outputs": [],
   "source": [
    "# Load required libraries\n",
    "library(rpart) \n",
    "library(mlbench)\n",
    "data(Ionosphere)"
   ]
  },
  {
   "cell_type": "markdown",
   "id": "3cf680b7",
   "metadata": {},
   "source": [
    "### b. Use the rpart() method to create a regression tree for the data. "
   ]
  },
  {
   "cell_type": "code",
   "execution_count": 26,
   "id": "75c67e8a",
   "metadata": {
    "vscode": {
     "languageId": "r"
    }
   },
   "outputs": [
    {
     "data": {
      "text/plain": [
       "n= 351 \n",
       "\n",
       "node), split, n, loss, yval, (yprob)\n",
       "      * denotes terminal node\n",
       "\n",
       " 1) root 351 126 good (0.35897436 0.64102564)  \n",
       "   2) V5< 0.23154 77   4 bad (0.94805195 0.05194805) *\n",
       "   3) V5>=0.23154 274  53 good (0.19343066 0.80656934)  \n",
       "     6) V27>=0.999945 52  13 bad (0.75000000 0.25000000)  \n",
       "      12) V1=0 19   0 bad (1.00000000 0.00000000) *\n",
       "      13) V1=1 33  13 bad (0.60606061 0.39393939)  \n",
       "        26) V3< 0.73004 8   0 bad (1.00000000 0.00000000) *\n",
       "        27) V3>=0.73004 25  12 good (0.48000000 0.52000000)  \n",
       "          54) V22>=0.47714 9   1 bad (0.88888889 0.11111111) *\n",
       "          55) V22< 0.47714 16   4 good (0.25000000 0.75000000) *\n",
       "     7) V27< 0.999945 222  14 good (0.06306306 0.93693694) *"
      ]
     },
     "metadata": {},
     "output_type": "display_data"
    }
   ],
   "source": [
    "rpart.ionosphere=rpart(Class~.,Ionosphere) \n",
    "rpart.ionosphere "
   ]
  },
  {
   "cell_type": "markdown",
   "id": "2f5f6579",
   "metadata": {},
   "source": [
    "### c. Use the plot() and text() methods to plot the decision tree. "
   ]
  },
  {
   "cell_type": "code",
   "execution_count": 27,
   "id": "e209cc09",
   "metadata": {
    "vscode": {
     "languageId": "r"
    }
   },
   "outputs": [
    {
     "data": {
      "image/png": "[encoded data removed]",
      "text/plain": [
       "plot without title"
      ]
     },
     "metadata": {
      "image/png": {
       "height": 420,
       "width": 420
      }
     },
     "output_type": "display_data"
    }
   ],
   "source": [
    "plot(rpart.ionosphere) \n",
    "text(rpart.ionosphere,pretty=0)"
   ]
  },
  {
   "cell_type": "markdown",
   "id": "ecefd448",
   "metadata": {},
   "source": [
    "## Part 2: Estimate accuracy  \n",
    "### a. Split the data a test and train subsets using the sample() method."
   ]
  },
  {
   "cell_type": "code",
   "execution_count": 28,
   "id": "3e0ae1bb",
   "metadata": {
    "vscode": {
     "languageId": "r"
    }
   },
   "outputs": [],
   "source": [
    "set.seed = (42)\n",
    "train=sample(1:nrow(Ionosphere),200) "
   ]
  },
  {
   "cell_type": "markdown",
   "id": "f101369c",
   "metadata": {},
   "source": [
    "### b. Use the rpart method to create a decision tree using the training data. "
   ]
  },
  {
   "cell_type": "code",
   "execution_count": 29,
   "id": "6f9efdb4",
   "metadata": {
    "vscode": {
     "languageId": "r"
    }
   },
   "outputs": [
    {
     "data": {
      "text/plain": [
       "n= 200 \n",
       "\n",
       "node), split, n, loss, yval, (yprob)\n",
       "      * denotes terminal node\n",
       "\n",
       "1) root 200 74 good (0.37000000 0.63000000)  \n",
       "  2) V5< 0.2318 44  2 bad (0.95454545 0.04545455) *\n",
       "  3) V5>=0.2318 156 32 good (0.20512821 0.79487179)  \n",
       "    6) V27>=0.99921 28  7 bad (0.75000000 0.25000000) *\n",
       "    7) V27< 0.99921 128 11 good (0.08593750 0.91406250) *"
      ]
     },
     "metadata": {},
     "output_type": "display_data"
    }
   ],
   "source": [
    "rpart.ionosphere=rpart(Class~.,Ionosphere,subset=train)\n",
    "rpart.ionosphere "
   ]
  },
  {
   "cell_type": "markdown",
   "id": "ce515992",
   "metadata": {},
   "source": [
    "### c. Use the predict method to find the predicted class labels for the testing data. "
   ]
  },
  {
   "cell_type": "code",
   "execution_count": 31,
   "id": "950e7772",
   "metadata": {
    "vscode": {
     "languageId": "r"
    }
   },
   "outputs": [],
   "source": [
    "# Create training and test sets\n",
    "Ionosphere.train <- Ionosphere[train, ]\n",
    "Ionosphere.test  <- Ionosphere[-train, ]"
   ]
  },
  {
   "cell_type": "code",
   "execution_count": 32,
   "id": "48762ff0",
   "metadata": {
    "vscode": {
     "languageId": "r"
    }
   },
   "outputs": [],
   "source": [
    "# Train model on training data\n",
    "library(rpart)\n",
    "rpart.ionosphere <- rpart(Class ~ ., data = Ionosphere.train)"
   ]
  },
  {
   "cell_type": "code",
   "execution_count": 33,
   "id": "0297cae1",
   "metadata": {
    "vscode": {
     "languageId": "r"
    }
   },
   "outputs": [],
   "source": [
    "rpart.pred=predict(rpart.ionosphere,Ionosphere.test,type=\"class\") "
   ]
  },
  {
   "cell_type": "code",
   "execution_count": 34,
   "id": "6f7042f4",
   "metadata": {
    "vscode": {
     "languageId": "r"
    }
   },
   "outputs": [
    {
     "data": {
      "text/html": [
       "<style>\n",
       ".dl-inline {width: auto; margin:0; padding: 0}\n",
       ".dl-inline>dt, .dl-inline>dd {float: none; width: auto; display: inline-block}\n",
       ".dl-inline>dt::after {content: \":\\0020\"; padding-right: .5ex}\n",
       ".dl-inline>dt:not(:first-of-type) {padding-left: .5ex}\n",
       "</style><dl class=dl-inline><dt>3</dt><dd>good</dd><dt>7</dt><dd>good</dd><dt>8</dt><dd>bad</dd><dt>14</dt><dd>bad</dd><dt>15</dt><dd>bad</dd><dt>16</dt><dd>good</dd></dl>\n",
       "\n",
       "<details>\n",
       "\t<summary style=display:list-item;cursor:pointer>\n",
       "\t\t<strong>Levels</strong>:\n",
       "\t</summary>\n",
       "\t<style>\n",
       "\t.list-inline {list-style: none; margin:0; padding: 0}\n",
       "\t.list-inline>li {display: inline-block}\n",
       "\t.list-inline>li:not(:last-child)::after {content: \"\\00b7\"; padding: 0 .5ex}\n",
       "\t</style>\n",
       "\t<ol class=list-inline><li>'bad'</li><li>'good'</li></ol>\n",
       "</details>"
      ],
      "text/latex": [
       "\\begin{description*}\n",
       "\\item[3] good\n",
       "\\item[7] good\n",
       "\\item[8] bad\n",
       "\\item[14] bad\n",
       "\\item[15] bad\n",
       "\\item[16] good\n",
       "\\end{description*}\n",
       "\n",
       "\\emph{Levels}: \\begin{enumerate*}\n",
       "\\item 'bad'\n",
       "\\item 'good'\n",
       "\\end{enumerate*}\n"
      ],
      "text/markdown": [
       "3\n",
       ":   good7\n",
       ":   good8\n",
       ":   bad14\n",
       ":   bad15\n",
       ":   bad16\n",
       ":   good\n",
       "\n",
       "\n",
       "**Levels**: 1. 'bad'\n",
       "2. 'good'\n",
       "\n",
       "\n"
      ],
      "text/plain": [
       "   3    7    8   14   15   16 \n",
       "good good  bad  bad  bad good \n",
       "Levels: bad good"
      ]
     },
     "metadata": {},
     "output_type": "display_data"
    }
   ],
   "source": [
    "# View predictions\n",
    "head(rpart.pred)"
   ]
  },
  {
   "cell_type": "markdown",
   "id": "7020f009",
   "metadata": {},
   "source": [
    "### d. Use the table method to create a table of the predictions versus true labels and then compute the accuracy. The accuracy is the number of correctly assigned good cases (true positives) plus the number of correctly assigned bad cases (true negatives) divided by the total number of testing cases. "
   ]
  },
  {
   "cell_type": "code",
   "execution_count": 35,
   "id": "172aeeef",
   "metadata": {
    "vscode": {
     "languageId": "r"
    }
   },
   "outputs": [
    {
     "data": {
      "text/plain": [
       "          \n",
       "rpart.pred bad good\n",
       "      bad   49    9\n",
       "      good   3   90"
      ]
     },
     "metadata": {},
     "output_type": "display_data"
    }
   ],
   "source": [
    "table(rpart.pred,Ionosphere$Class[-train]) "
   ]
  },
  {
   "cell_type": "code",
   "execution_count": 36,
   "id": "2f8290b3",
   "metadata": {
    "vscode": {
     "languageId": "r"
    }
   },
   "outputs": [
    {
     "data": {
      "text/html": [
       "0.874172185430464"
      ],
      "text/latex": [
       "0.874172185430464"
      ],
      "text/markdown": [
       "0.874172185430464"
      ],
      "text/plain": [
       "[1] 0.8741722"
      ]
     },
     "metadata": {},
     "output_type": "display_data"
    }
   ],
   "source": [
    "(37+95)/(37+3+16+95)"
   ]
  },
  {
   "cell_type": "code",
   "execution_count": null,
   "id": "abf871be",
   "metadata": {
    "vscode": {
     "languageId": "r"
    }
   },
   "outputs": [
    {
     "name": "stdout",
     "output_type": "stream",
     "text": [
      "\n"
     ]
    },
    {
     "name": "stdout",
     "output_type": "stream",
     "text": [
      "======================================================================\n",
      "ANALYSIS COMPLETE\n",
      "======================================================================\n"
     ]
    }
   ],
   "source": [
    "cat(\"\\n\")\n",
    "cat(rep(\"=\", 70), sep=\"\", \"\\n\")\n",
    "cat(\"ANALYSIS COMPLETE\\n\")\n",
    "cat(rep(\"=\", 70), sep=\"\", \"\\n\")"
   ]
  }
 ],
 "metadata": {
  "kernelspec": {
   "display_name": "R",
   "language": "R",
   "name": "ir"
  },
  "language_info": {
   "codemirror_mode": "r",
   "file_extension": ".r",
   "mimetype": "text/x-r-source",
   "name": "R",
   "pygments_lexer": "r",
   "version": "4.4.3"
  }
 },
 "nbformat": 4,
 "nbformat_minor": 5
}
