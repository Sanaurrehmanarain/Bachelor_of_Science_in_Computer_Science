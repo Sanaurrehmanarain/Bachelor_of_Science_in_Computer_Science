{
 "cells": [
  {
   "cell_type": "markdown",
   "id": "32aa89c5",
   "metadata": {},
   "source": [
    "# Multiple Linear Regression Exercises"
   ]
  },
  {
   "cell_type": "markdown",
   "id": "d659c8dd",
   "metadata": {},
   "source": [
    "## a) Calculate the parameter estimates (β0, β1, β2 and σ2), in addition find the usual 95% confidence intervals for β0, β1, and β2."
   ]
  },
  {
   "cell_type": "code",
   "execution_count": null,
   "id": "a6d32e1a",
   "metadata": {
    "vscode": {
     "languageId": "r"
    }
   },
   "outputs": [
    {
     "data": {
      "text/plain": [
       "\n",
       "Call:\n",
       "lm(formula = y ~ x1 + x2, data = D)\n",
       "\n",
       "Residuals:\n",
       "     Min       1Q   Median       3Q      Max \n",
       "-0.15493 -0.07801 -0.02004  0.04999  0.30112 \n",
       "\n",
       "Coefficients:\n",
       "            Estimate Std. Error t value Pr(>|t|)    \n",
       "(Intercept) 0.433547   0.065983   6.571 1.31e-06 ***\n",
       "x1          1.652993   0.095245  17.355 2.53e-14 ***\n",
       "x2          0.003945   0.074854   0.053    0.958    \n",
       "---\n",
       "Signif. codes:  0 '***' 0.001 '**' 0.01 '*' 0.05 '.' 0.1 ' ' 1\n",
       "\n",
       "Residual standard error: 0.1127 on 22 degrees of freedom\n",
       "Multiple R-squared:  0.9399,\tAdjusted R-squared:  0.9344 \n",
       "F-statistic:   172 on 2 and 22 DF,  p-value: 3.699e-14\n"
      ]
     },
     "metadata": {},
     "output_type": "display_data"
    },
    {
     "data": {
      "text/html": [
       "<table class=\"dataframe\">\n",
       "<caption>A matrix: 0 × 2 of type dbl</caption>\n",
       "<thead>\n",
       "\t<tr><th scope=col>2.5 %</th><th scope=col>97.5 %</th></tr>\n",
       "</thead>\n",
       "<tbody>\n",
       "</tbody>\n",
       "</table>\n"
      ],
      "text/latex": [
       "A matrix: 0 × 2 of type dbl\n",
       "\\begin{tabular}{ll}\n",
       " 2.5 \\% & 97.5 \\%\\\\\n",
       "\\hline\n",
       "\\end{tabular}\n"
      ],
      "text/markdown": [
       "\n",
       "A matrix: 0 × 2 of type dbl\n",
       "\n",
       "| 2.5 % | 97.5 % |\n",
       "|---|---|\n",
       "\n"
      ],
      "text/plain": [
       "     2.5 % 97.5 %"
      ]
     },
     "metadata": {},
     "output_type": "display_data"
    },
    {
     "data": {
      "text/html": [
       "0.0127052276665322"
      ],
      "text/latex": [
       "0.0127052276665322"
      ],
      "text/markdown": [
       "0.0127052276665322"
      ],
      "text/plain": [
       "[1] 0.01270523"
      ]
     },
     "metadata": {},
     "output_type": "display_data"
    }
   ],
   "source": [
    "# Load the data\n",
    "D <- data.frame(\n",
    "  x1=c(0.58, 0.86, 0.29, 0.20, 0.56, 0.28, 0.08, 0.41, 0.22, 0.35,\n",
    "       0.59, 0.22, 0.26, 0.12, 0.65, 0.70, 0.30, 0.70, 0.39, 0.72,\n",
    "       0.45, 0.81, 0.04, 0.20, 0.95),\n",
    "  x2=c(0.71, 0.13, 0.79, 0.20, 0.56, 0.92, 0.01, 0.60, 0.70, 0.73,\n",
    "       0.13, 0.96, 0.27, 0.21, 0.88, 0.30, 0.15, 0.09, 0.17, 0.25,\n",
    "       0.30, 0.32, 0.82, 0.98, 0.00),\n",
    "  y=c(1.45, 1.93, 0.81, 0.61, 1.55, 0.95, 0.45, 1.14, 0.74, 0.98,\n",
    "       1.41, 0.81, 0.89, 0.68, 1.39, 1.53, 0.91, 1.49, 1.38, 1.73,\n",
    "       1.11, 1.68, 0.66, 0.69, 1.98)\n",
    ")\n",
    "\n",
    "fit_full <- lm(y ~ x1 + x2, data = D)\n",
    "summary(fit_full)       # parameter estimates & tests\n",
    "confint(fit_full, 0.95) # 95% CIs\n",
    "summary(fit_full)$sigma^2   # σ² estimate"
   ]
  },
  {
   "cell_type": "markdown",
   "id": "5aa71af5",
   "metadata": {},
   "source": [
    "## b) Reduce the model if appropriate (α = 0.05)"
   ]
  },
  {
   "cell_type": "code",
   "execution_count": null,
   "id": "8b990e79",
   "metadata": {
    "vscode": {
     "languageId": "r"
    }
   },
   "outputs": [
    {
     "data": {
      "text/html": [
       "<table class=\"dataframe\">\n",
       "<caption>A anova: 2 × 6</caption>\n",
       "<thead>\n",
       "\t<tr><th></th><th scope=col>Res.Df</th><th scope=col>RSS</th><th scope=col>Df</th><th scope=col>Sum of Sq</th><th scope=col>F</th><th scope=col>Pr(&gt;F)</th></tr>\n",
       "\t<tr><th></th><th scope=col>&lt;dbl&gt;</th><th scope=col>&lt;dbl&gt;</th><th scope=col>&lt;dbl&gt;</th><th scope=col>&lt;dbl&gt;</th><th scope=col>&lt;dbl&gt;</th><th scope=col>&lt;dbl&gt;</th></tr>\n",
       "</thead>\n",
       "<tbody>\n",
       "\t<tr><th scope=row>1</th><td>22</td><td>0.2795150</td><td>NA</td><td>           NA</td><td>         NA</td><td>       NA</td></tr>\n",
       "\t<tr><th scope=row>2</th><td>23</td><td>0.2795503</td><td>-1</td><td>-3.528751e-05</td><td>0.002777401</td><td>0.9584457</td></tr>\n",
       "</tbody>\n",
       "</table>\n"
      ],
      "text/latex": [
       "A anova: 2 × 6\n",
       "\\begin{tabular}{r|llllll}\n",
       "  & Res.Df & RSS & Df & Sum of Sq & F & Pr(>F)\\\\\n",
       "  & <dbl> & <dbl> & <dbl> & <dbl> & <dbl> & <dbl>\\\\\n",
       "\\hline\n",
       "\t1 & 22 & 0.2795150 & NA &            NA &          NA &        NA\\\\\n",
       "\t2 & 23 & 0.2795503 & -1 & -3.528751e-05 & 0.002777401 & 0.9584457\\\\\n",
       "\\end{tabular}\n"
      ],
      "text/markdown": [
       "\n",
       "A anova: 2 × 6\n",
       "\n",
       "| <!--/--> | Res.Df &lt;dbl&gt; | RSS &lt;dbl&gt; | Df &lt;dbl&gt; | Sum of Sq &lt;dbl&gt; | F &lt;dbl&gt; | Pr(&gt;F) &lt;dbl&gt; |\n",
       "|---|---|---|---|---|---|---|\n",
       "| 1 | 22 | 0.2795150 | NA |            NA |          NA |        NA |\n",
       "| 2 | 23 | 0.2795503 | -1 | -3.528751e-05 | 0.002777401 | 0.9584457 |\n",
       "\n"
      ],
      "text/plain": [
       "  Res.Df RSS       Df Sum of Sq     F           Pr(>F)   \n",
       "1 22     0.2795150 NA            NA          NA        NA\n",
       "2 23     0.2795503 -1 -3.528751e-05 0.002777401 0.9584457"
      ]
     },
     "metadata": {},
     "output_type": "display_data"
    },
    {
     "data": {
      "text/plain": [
       "\n",
       "Call:\n",
       "lm(formula = y ~ x1, data = D)\n",
       "\n",
       "Residuals:\n",
       "     Min       1Q   Median       3Q      Max \n",
       "-0.15633 -0.07633 -0.02145  0.05157  0.29994 \n",
       "\n",
       "Coefficients:\n",
       "            Estimate Std. Error t value Pr(>|t|)    \n",
       "(Intercept)  0.43609    0.04399   9.913 9.02e-10 ***\n",
       "x1           1.65121    0.08707  18.963 1.54e-15 ***\n",
       "---\n",
       "Signif. codes:  0 '***' 0.001 '**' 0.01 '*' 0.05 '.' 0.1 ' ' 1\n",
       "\n",
       "Residual standard error: 0.1102 on 23 degrees of freedom\n",
       "Multiple R-squared:  0.9399,\tAdjusted R-squared:  0.9373 \n",
       "F-statistic: 359.6 on 1 and 23 DF,  p-value: 1.538e-15\n"
      ]
     },
     "metadata": {},
     "output_type": "display_data"
    }
   ],
   "source": [
    "fit <- lm(y ~ x1, data = D)\n",
    "anova(fit_full, fit)    # confirms x2 not needed\n",
    "summary(fit)"
   ]
  },
  {
   "cell_type": "markdown",
   "id": "ab4d2d02",
   "metadata": {},
   "source": [
    "## c) Residual analysis"
   ]
  },
  {
   "cell_type": "code",
   "execution_count": null,
   "id": "a975ea1d",
   "metadata": {
    "vscode": {
     "languageId": "r"
    }
   },
   "outputs": [
    {
     "data": {
      "text/plain": [
       "\n",
       "\tShapiro-Wilk normality test\n",
       "\n",
       "data:  residuals(fit)\n",
       "W = 0.93532, p-value = 0.1154\n"
      ]
     },
     "metadata": {},
     "output_type": "display_data"
    },
    {
     "data": {
      "image/png": "[encoded data removed]",
      "text/plain": [
       "Plot with title \"\""
      ]
     },
     "metadata": {
      "image/png": {
       "height": 420,
       "width": 420
      }
     },
     "output_type": "display_data"
    }
   ],
   "source": [
    "par(mfrow = c(2, 2))\n",
    "plot(fit)                         # diagnostic plots\n",
    "shapiro.test(residuals(fit))      # normality check"
   ]
  },
  {
   "cell_type": "markdown",
   "id": "d1071e4b",
   "metadata": {},
   "source": [
    "## d) Fitted line with 95% confidence & prediction intervals"
   ]
  },
  {
   "cell_type": "code",
   "execution_count": null,
   "id": "c7f58305",
   "metadata": {
    "vscode": {
     "languageId": "r"
    }
   },
   "outputs": [
    {
     "data": {
      "image/png": "[encoded data removed]",
      "text/plain": [
       "Plot with title \"Fitted line with 95% CI & PI\""
      ]
     },
     "metadata": {
      "image/png": {
       "height": 420,
       "width": 420
      }
     },
     "output_type": "display_data"
    }
   ],
   "source": [
    "new_x1 <- data.frame(x1 = seq(0, 1, length.out = 100))\n",
    "ci <- predict(fit, new_x1, interval = \"confidence\")\n",
    "pi <- predict(fit, new_x1, interval = \"prediction\")\n",
    "\n",
    "plot(D$x1, D$y, pch = 19, col = \"blue\",\n",
    "     xlab = \"x1\", ylab = \"y\",\n",
    "     main = \"Fitted line with 95% CI & PI\")\n",
    "lines(new_x1$x1, ci[,\"fit\"], col = \"red\", lwd = 2)\n",
    "lines(new_x1$x1, ci[,\"lwr\"], col = \"red\", lty = 2)\n",
    "lines(new_x1$x1, ci[,\"upr\"], col = \"red\", lty = 2)\n",
    "lines(new_x1$x1, pi[,\"lwr\"], col = \"darkgreen\", lty = 3)\n",
    "lines(new_x1$x1, pi[,\"upr\"], col = \"darkgreen\", lty = 3)\n",
    "legend(\"topleft\",\n",
    "       legend = c(\"Fitted line\", \"95% CI\", \"95% PI\"),\n",
    "       col = c(\"red\", \"red\", \"darkgreen\"),\n",
    "       lty = c(1, 2, 3), bty = \"n\")"
   ]
  },
  {
   "cell_type": "markdown",
   "id": "cfe51ba8",
   "metadata": {},
   "source": [
    "# MLR simulation exercise"
   ]
  },
  {
   "cell_type": "code",
   "execution_count": null,
   "id": "88e30a4a",
   "metadata": {
    "vscode": {
     "languageId": "r"
    }
   },
   "outputs": [],
   "source": [
    "## Load data\n",
    "D <- data.frame(\n",
    "  y  = c(9.29,12.67,12.42,0.38,20.77,9.52,2.38,7.46),\n",
    "  x1 = c(1,2,3,4,5,6,7,8),\n",
    "  x2 = c(4,12,16,8,32,24,20,28)\n",
    ")"
   ]
  },
  {
   "cell_type": "markdown",
   "id": "b1511d3f",
   "metadata": {},
   "source": [
    "## a) Plots of y vs x1 and y vs x2"
   ]
  },
  {
   "cell_type": "code",
   "execution_count": null,
   "id": "eb0e417c",
   "metadata": {
    "vscode": {
     "languageId": "r"
    }
   },
   "outputs": [
    {
     "data": {
      "image/png": "[encoded data removed]",
      "text/plain": [
       "Plot with title \"y vs x2\""
      ]
     },
     "metadata": {
      "image/png": {
       "height": 420,
       "width": 420
      }
     },
     "output_type": "display_data"
    }
   ],
   "source": [
    "par(mfrow = c(1, 2))                 # two plots side by side\n",
    "plot(D$x1, D$y, pch = 19, col = \"blue\",\n",
    "     xlab = \"x1\", ylab = \"y\", main = \"y vs x1\")\n",
    "plot(D$x2, D$y, pch = 19, col = \"red\",\n",
    "     xlab = \"x2\", ylab = \"y\", main = \"y vs x2\")\n",
    "par(mfrow = c(1, 1))"
   ]
  },
  {
   "cell_type": "markdown",
   "id": "01ff1c53",
   "metadata": {},
   "source": [
    "The plot of **y vs x1** shows no obvious upward or downward trend—the points are scattered.\n",
    "\n",
    "The plot of **y vs x2** is also diffuse. Neither predictor shows a clear linear relationship with y."
   ]
  },
  {
   "cell_type": "markdown",
   "id": "e02de63d",
   "metadata": {},
   "source": [
    "## b) Fit the two simple linear models"
   ]
  },
  {
   "cell_type": "code",
   "execution_count": null,
   "id": "ced00cff",
   "metadata": {
    "vscode": {
     "languageId": "r"
    }
   },
   "outputs": [
    {
     "data": {
      "text/plain": [
       "\n",
       "Call:\n",
       "lm(formula = y ~ x1, data = D)\n",
       "\n",
       "Residuals:\n",
       "    Min      1Q  Median      3Q     Max \n",
       "-9.2942 -3.0504  0.6933  1.8381 11.7217 \n",
       "\n",
       "Coefficients:\n",
       "            Estimate Std. Error t value Pr(>|t|)  \n",
       "(Intercept)  12.1775     5.1984   2.343   0.0576 .\n",
       "x1           -0.6258     1.0294  -0.608   0.5655  \n",
       "---\n",
       "Signif. codes:  0 '***' 0.001 '**' 0.01 '*' 0.05 '.' 0.1 ' ' 1\n",
       "\n",
       "Residual standard error: 6.672 on 6 degrees of freedom\n",
       "Multiple R-squared:  0.05802,\tAdjusted R-squared:  -0.09897 \n",
       "F-statistic: 0.3696 on 1 and 6 DF,  p-value: 0.5655\n"
      ]
     },
     "metadata": {},
     "output_type": "display_data"
    },
    {
     "data": {
      "text/plain": [
       "\n",
       "Call:\n",
       "lm(formula = y ~ x2, data = D)\n",
       "\n",
       "Residuals:\n",
       "   Min     1Q Median     3Q    Max \n",
       "-7.554 -5.104  1.036  4.212  7.397 \n",
       "\n",
       "Coefficients:\n",
       "            Estimate Std. Error t value Pr(>|t|)\n",
       "(Intercept)   4.2039     4.8069   0.875    0.415\n",
       "x2            0.2865     0.2380   1.204    0.274\n",
       "\n",
       "Residual standard error: 6.169 on 6 degrees of freedom\n",
       "Multiple R-squared:  0.1946,\tAdjusted R-squared:  0.06035 \n",
       "F-statistic:  1.45 on 1 and 6 DF,  p-value: 0.2739\n"
      ]
     },
     "metadata": {},
     "output_type": "display_data"
    },
    {
     "data": {
      "text/html": [
       "<table class=\"dataframe\">\n",
       "<caption>A matrix: 2 × 2 of type dbl</caption>\n",
       "<thead>\n",
       "\t<tr><th></th><th scope=col>2.5 %</th><th scope=col>97.5 %</th></tr>\n",
       "</thead>\n",
       "<tbody>\n",
       "\t<tr><th scope=row>(Intercept)</th><td>-0.5426374</td><td>24.897637</td></tr>\n",
       "\t<tr><th scope=row>x1</th><td>-3.1447959</td><td> 1.893129</td></tr>\n",
       "</tbody>\n",
       "</table>\n"
      ],
      "text/latex": [
       "A matrix: 2 × 2 of type dbl\n",
       "\\begin{tabular}{r|ll}\n",
       "  & 2.5 \\% & 97.5 \\%\\\\\n",
       "\\hline\n",
       "\t(Intercept) & -0.5426374 & 24.897637\\\\\n",
       "\tx1 & -3.1447959 &  1.893129\\\\\n",
       "\\end{tabular}\n"
      ],
      "text/markdown": [
       "\n",
       "A matrix: 2 × 2 of type dbl\n",
       "\n",
       "| <!--/--> | 2.5 % | 97.5 % |\n",
       "|---|---|---|\n",
       "| (Intercept) | -0.5426374 | 24.897637 |\n",
       "| x1 | -3.1447959 |  1.893129 |\n",
       "\n"
      ],
      "text/plain": [
       "            2.5 %      97.5 %   \n",
       "(Intercept) -0.5426374 24.897637\n",
       "x1          -3.1447959  1.893129"
      ]
     },
     "metadata": {},
     "output_type": "display_data"
    },
    {
     "data": {
      "text/html": [
       "<table class=\"dataframe\">\n",
       "<caption>A matrix: 2 × 2 of type dbl</caption>\n",
       "<thead>\n",
       "\t<tr><th></th><th scope=col>2.5 %</th><th scope=col>97.5 %</th></tr>\n",
       "</thead>\n",
       "<tbody>\n",
       "\t<tr><th scope=row>(Intercept)</th><td>-7.5580921</td><td>15.9659492</td></tr>\n",
       "\t<tr><th scope=row>x2</th><td>-0.2957889</td><td> 0.8688246</td></tr>\n",
       "</tbody>\n",
       "</table>\n"
      ],
      "text/latex": [
       "A matrix: 2 × 2 of type dbl\n",
       "\\begin{tabular}{r|ll}\n",
       "  & 2.5 \\% & 97.5 \\%\\\\\n",
       "\\hline\n",
       "\t(Intercept) & -7.5580921 & 15.9659492\\\\\n",
       "\tx2 & -0.2957889 &  0.8688246\\\\\n",
       "\\end{tabular}\n"
      ],
      "text/markdown": [
       "\n",
       "A matrix: 2 × 2 of type dbl\n",
       "\n",
       "| <!--/--> | 2.5 % | 97.5 % |\n",
       "|---|---|---|\n",
       "| (Intercept) | -7.5580921 | 15.9659492 |\n",
       "| x2 | -0.2957889 |  0.8688246 |\n",
       "\n"
      ],
      "text/plain": [
       "            2.5 %      97.5 %    \n",
       "(Intercept) -7.5580921 15.9659492\n",
       "x2          -0.2957889  0.8688246"
      ]
     },
     "metadata": {},
     "output_type": "display_data"
    }
   ],
   "source": [
    "fit_x1 <- lm(y ~ x1, data = D)\n",
    "fit_x2 <- lm(y ~ x2, data = D)\n",
    "\n",
    "# Summaries with parameter estimates and p-values\n",
    "summary(fit_x1)\n",
    "summary(fit_x2)\n",
    "\n",
    "# 95% confidence intervals for coefficients\n",
    "confint(fit_x1, level = 0.95)\n",
    "confint(fit_x2, level = 0.95)"
   ]
  },
  {
   "cell_type": "markdown",
   "id": "a82d42e1",
   "metadata": {},
   "source": [
    "**Linear model with x1**\n",
    "\n",
    "Model: 𝑦 = 𝛽0 + 𝛽1𝑥1 + 𝜀\n",
    "\n",
    "| term      | estimate |        95% CI | p-value |\n",
    "| --------- | -------: | ------------: | ------: |\n",
    "| Intercept |    12.18 | –0.54 , 24.90 |   0.058 |\n",
    "| x1 slope  |    –0.63 |  –3.14 , 1.89 |   0.566 |\n",
    "\n",
    "- The slope is small and the confidence interval includes 0.\n",
    "\n",
    "- 𝑅2 = 0.06: x1 explains only about 6 % of the variation in y."
   ]
  },
  {
   "cell_type": "markdown",
   "id": "760e5692",
   "metadata": {},
   "source": [
    "**Linear model with x2**\n",
    "\n",
    "Model: 𝑦 = 𝛽0 + 𝛽1𝑥2 + 𝜀\n",
    "\n",
    "| term      | estimate |        95% CI | p-value |\n",
    "| --------- | -------: | ------------: | ------: |\n",
    "| Intercept |     4.20 | –7.56 , 15.97 |   0.415 |\n",
    "| x2 slope  |     0.29 |  –0.30 , 0.87 |   0.274 |\n",
    "\n",
    "- The slope is not significant; its confidence interval also spans 0.\n",
    "\n",
    "- 𝑅2 = 0.19: x2 explains about 19 % of the variation, still weak."
   ]
  },
  {
   "cell_type": "markdown",
   "id": "b52ebb80",
   "metadata": {},
   "source": [
    "**Interpretation**\n",
    "\n",
    "- Neither x1 nor x2 provides a statistically significant linear relationship with y at the 5 % level.\n",
    "\n",
    "- Both models have wide confidence intervals and low R² values, so the data do not support using x1 or x2 alone to predict y.\n",
    "\n",
    "- The visual scatterplots agree: there is no clear linear trend.\n",
    "\n",
    "We can conclude that, with this small dataset, **neither x1 nor x2 is an effective predictor of y in a simple linear model**."
   ]
  }
 ],
 "metadata": {
  "kernelspec": {
   "display_name": "R",
   "language": "R",
   "name": "ir"
  },
  "language_info": {
   "codemirror_mode": "r",
   "file_extension": ".r",
   "mimetype": "text/x-r-source",
   "name": "R",
   "pygments_lexer": "r",
   "version": "3.13.5"
  }
 },
 "nbformat": 4,
 "nbformat_minor": 5
}
