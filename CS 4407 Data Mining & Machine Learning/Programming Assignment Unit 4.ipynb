{
 "cells": [
  {
   "cell_type": "markdown",
   "id": "a5f35c4a",
   "metadata": {},
   "source": [
    "# K-Nearest Neighbors – Unit 4 Assignment\n",
    "Data Mining and Machine Learning  \n",
    "Author: Sana"
   ]
  },
  {
   "cell_type": "markdown",
   "id": "624954e3",
   "metadata": {},
   "source": [
    "## Introduction\n",
    "We classify points in 2D space into two classes, A and B, using the k-Nearest Neighbors (kNN) algorithm.\n",
    "\n",
    "Class A: (0,0), (1,1), (2,2)  \n",
    "\n",
    "Class B: (6,6), (5.5,7), (6.5,5)"
   ]
  },
  {
   "cell_type": "code",
   "execution_count": null,
   "id": "771a8cef",
   "metadata": {
    "vscode": {
     "languageId": "r"
    }
   },
   "outputs": [
    {
     "data": {
      "text/html": [
       "<table class=\"dataframe\">\n",
       "<caption>A matrix: 6 × 2 of type dbl</caption>\n",
       "<tbody>\n",
       "\t<tr><td>0.0</td><td>0</td></tr>\n",
       "\t<tr><td>1.0</td><td>1</td></tr>\n",
       "\t<tr><td>2.0</td><td>2</td></tr>\n",
       "\t<tr><td>6.0</td><td>6</td></tr>\n",
       "\t<tr><td>5.5</td><td>7</td></tr>\n",
       "\t<tr><td>6.5</td><td>5</td></tr>\n",
       "</tbody>\n",
       "</table>\n"
      ],
      "text/latex": [
       "A matrix: 6 × 2 of type dbl\n",
       "\\begin{tabular}{ll}\n",
       "\t 0.0 & 0\\\\\n",
       "\t 1.0 & 1\\\\\n",
       "\t 2.0 & 2\\\\\n",
       "\t 6.0 & 6\\\\\n",
       "\t 5.5 & 7\\\\\n",
       "\t 6.5 & 5\\\\\n",
       "\\end{tabular}\n"
      ],
      "text/markdown": [
       "\n",
       "A matrix: 6 × 2 of type dbl\n",
       "\n",
       "| 0.0 | 0 |\n",
       "| 1.0 | 1 |\n",
       "| 2.0 | 2 |\n",
       "| 6.0 | 6 |\n",
       "| 5.5 | 7 |\n",
       "| 6.5 | 5 |\n",
       "\n"
      ],
      "text/plain": [
       "     [,1] [,2]\n",
       "[1,] 0.0  0   \n",
       "[2,] 1.0  1   \n",
       "[3,] 2.0  2   \n",
       "[4,] 6.0  6   \n",
       "[5,] 5.5  7   \n",
       "[6,] 6.5  5   "
      ]
     },
     "metadata": {},
     "output_type": "display_data"
    },
    {
     "data": {
      "text/html": [
       "<style>\n",
       ".list-inline {list-style: none; margin:0; padding: 0}\n",
       ".list-inline>li {display: inline-block}\n",
       ".list-inline>li:not(:last-child)::after {content: \"\\00b7\"; padding: 0 .5ex}\n",
       "</style>\n",
       "<ol class=list-inline><li>A</li><li>A</li><li>A</li><li>B</li><li>B</li><li>B</li></ol>\n",
       "\n",
       "<details>\n",
       "\t<summary style=display:list-item;cursor:pointer>\n",
       "\t\t<strong>Levels</strong>:\n",
       "\t</summary>\n",
       "\t<style>\n",
       "\t.list-inline {list-style: none; margin:0; padding: 0}\n",
       "\t.list-inline>li {display: inline-block}\n",
       "\t.list-inline>li:not(:last-child)::after {content: \"\\00b7\"; padding: 0 .5ex}\n",
       "\t</style>\n",
       "\t<ol class=list-inline><li>'A'</li><li>'B'</li></ol>\n",
       "</details>"
      ],
      "text/latex": [
       "\\begin{enumerate*}\n",
       "\\item A\n",
       "\\item A\n",
       "\\item A\n",
       "\\item B\n",
       "\\item B\n",
       "\\item B\n",
       "\\end{enumerate*}\n",
       "\n",
       "\\emph{Levels}: \\begin{enumerate*}\n",
       "\\item 'A'\n",
       "\\item 'B'\n",
       "\\end{enumerate*}\n"
      ],
      "text/markdown": [
       "1. A\n",
       "2. A\n",
       "3. A\n",
       "4. B\n",
       "5. B\n",
       "6. B\n",
       "\n",
       "\n",
       "\n",
       "**Levels**: 1. 'A'\n",
       "2. 'B'\n",
       "\n",
       "\n"
      ],
      "text/plain": [
       "[1] A A A B B B\n",
       "Levels: A B"
      ]
     },
     "metadata": {},
     "output_type": "display_data"
    }
   ],
   "source": [
    "# Load the class package\n",
    "library(class)\n",
    "\n",
    "# Training data\n",
    "train <- rbind(\n",
    "  c(0,0),\n",
    "  c(1,1),\n",
    "  c(2,2),\n",
    "  c(6,6),\n",
    "  c(5.5,7),\n",
    "  c(6.5,5)\n",
    ")\n",
    "\n",
    "# Classification labels: 3 A's then 3 B's\n",
    "cl <- factor(c(rep(\"A\",3), rep(\"B\",3))) # This assigns each of the six training points to its class.\n",
    "\n",
    "train\n",
    "cl"
   ]
  },
  {
   "cell_type": "markdown",
   "id": "d9a29bfe",
   "metadata": {},
   "source": [
    "## Plot of Training Objects\n",
    "The chart below shows the six training points, red for Class A and blue for Class B."
   ]
  },
  {
   "cell_type": "code",
   "execution_count": 3,
   "id": "d5fffd59",
   "metadata": {
    "vscode": {
     "languageId": "r"
    }
   },
   "outputs": [
    {
     "data": {
      "image/png": "[encoded data removed]",
      "text/plain": [
       "Plot with title \"Training Points\""
      ]
     },
     "metadata": {
      "image/png": {
       "height": 420,
       "width": 420
      }
     },
     "output_type": "display_data"
    }
   ],
   "source": [
    "plot(train, col=c(rep(\"red\",3), rep(\"blue\",3)),\n",
    "     pch=19, xlab=\"X\", ylab=\"Y\", main=\"Training Points\")\n",
    "legend(\"topleft\", legend=c(\"Class A\",\"Class B\"),\n",
    "       col=c(\"red\",\"blue\"), pch=19)"
   ]
  },
  {
   "cell_type": "markdown",
   "id": "45d2bdf7",
   "metadata": {},
   "source": [
    "Plotted on an X-Y chart, Class A forms a small cluster in the lower-left corner while Class B forms a cluster in the upper-right corner."
   ]
  },
  {
   "cell_type": "markdown",
   "id": "11b0ba57",
   "metadata": {},
   "source": [
    "### 1. Test Point (4,4), k = 1\n",
    "Classify the point (4,4) using k = 1 and summarize the result."
   ]
  },
  {
   "cell_type": "code",
   "execution_count": 4,
   "id": "872104d0",
   "metadata": {
    "vscode": {
     "languageId": "r"
    }
   },
   "outputs": [
    {
     "data": {
      "text/html": [
       "<style>\n",
       ".dl-inline {width: auto; margin:0; padding: 0}\n",
       ".dl-inline>dt, .dl-inline>dd {float: none; width: auto; display: inline-block}\n",
       ".dl-inline>dt::after {content: \":\\0020\"; padding-right: .5ex}\n",
       ".dl-inline>dt:not(:first-of-type) {padding-left: .5ex}\n",
       "</style><dl class=dl-inline><dt>A</dt><dd>0</dd><dt>B</dt><dd>1</dd></dl>\n"
      ],
      "text/latex": [
       "\\begin{description*}\n",
       "\\item[A] 0\n",
       "\\item[B] 1\n",
       "\\end{description*}\n"
      ],
      "text/markdown": [
       "A\n",
       ":   0B\n",
       ":   1\n",
       "\n"
      ],
      "text/plain": [
       "A B \n",
       "0 1 "
      ]
     },
     "metadata": {},
     "output_type": "display_data"
    }
   ],
   "source": [
    "test1 <- matrix(c(4,4), ncol=2)\n",
    "pred1 <- knn(train, test1, cl, k=1)\n",
    "summary(pred1)"
   ]
  },
  {
   "cell_type": "markdown",
   "id": "e2831378",
   "metadata": {},
   "source": [
    "The summary shows the predicted class.  \n",
    "The test point (4,4) is classified as **Class B**, because its single nearest neighbor is from Class B."
   ]
  },
  {
   "cell_type": "markdown",
   "id": "a865c5da",
   "metadata": {},
   "source": [
    "### 2. Test Point (3.5,3.5), k = 1"
   ]
  },
  {
   "cell_type": "code",
   "execution_count": 5,
   "id": "e289e354",
   "metadata": {
    "vscode": {
     "languageId": "r"
    }
   },
   "outputs": [
    {
     "data": {
      "text/html": [
       "<style>\n",
       ".dl-inline {width: auto; margin:0; padding: 0}\n",
       ".dl-inline>dt, .dl-inline>dd {float: none; width: auto; display: inline-block}\n",
       ".dl-inline>dt::after {content: \":\\0020\"; padding-right: .5ex}\n",
       ".dl-inline>dt:not(:first-of-type) {padding-left: .5ex}\n",
       "</style><dl class=dl-inline><dt>A</dt><dd>1</dd><dt>B</dt><dd>0</dd></dl>\n"
      ],
      "text/latex": [
       "\\begin{description*}\n",
       "\\item[A] 1\n",
       "\\item[B] 0\n",
       "\\end{description*}\n"
      ],
      "text/markdown": [
       "A\n",
       ":   1B\n",
       ":   0\n",
       "\n"
      ],
      "text/plain": [
       "A B \n",
       "1 0 "
      ]
     },
     "metadata": {},
     "output_type": "display_data"
    }
   ],
   "source": [
    "test2 <- matrix(c(3.5,3.5), ncol=2)\n",
    "pred2 <- knn(train, test2, cl, k=1)\n",
    "summary(pred2)"
   ]
  },
  {
   "cell_type": "markdown",
   "id": "3b6bf7f0",
   "metadata": {},
   "source": [
    "The point (3.5,3.5) is visually nearer Class A points, so it is predicted as **Class A**."
   ]
  },
  {
   "cell_type": "markdown",
   "id": "c0bf5ace",
   "metadata": {},
   "source": [
    "### 3. Test Point (3.5,3.5), k = 3"
   ]
  },
  {
   "cell_type": "code",
   "execution_count": 6,
   "id": "d2806ed5",
   "metadata": {
    "vscode": {
     "languageId": "r"
    }
   },
   "outputs": [
    {
     "data": {
      "text/html": [
       "<style>\n",
       ".dl-inline {width: auto; margin:0; padding: 0}\n",
       ".dl-inline>dt, .dl-inline>dd {float: none; width: auto; display: inline-block}\n",
       ".dl-inline>dt::after {content: \":\\0020\"; padding-right: .5ex}\n",
       ".dl-inline>dt:not(:first-of-type) {padding-left: .5ex}\n",
       "</style><dl class=dl-inline><dt>A</dt><dd>0</dd><dt>B</dt><dd>1</dd></dl>\n"
      ],
      "text/latex": [
       "\\begin{description*}\n",
       "\\item[A] 0\n",
       "\\item[B] 1\n",
       "\\end{description*}\n"
      ],
      "text/markdown": [
       "A\n",
       ":   0B\n",
       ":   1\n",
       "\n"
      ],
      "text/plain": [
       "A B \n",
       "0 1 "
      ]
     },
     "metadata": {},
     "output_type": "display_data"
    }
   ],
   "source": [
    "pred3 <- knn(train, test2, cl, k=3)\n",
    "summary(pred3)"
   ]
  },
  {
   "cell_type": "markdown",
   "id": "e1704585",
   "metadata": {},
   "source": [
    "With k = 3, the majority vote of the three closest neighbors predicts **Class B**."
   ]
  },
  {
   "cell_type": "markdown",
   "id": "c35774dd",
   "metadata": {},
   "source": [
    "### 4. Classifying Four Test Points\n",
    "Test points: (4,4), (3,3), (5,6), (7,7) using k = 3."
   ]
  },
  {
   "cell_type": "code",
   "execution_count": 8,
   "id": "a9bc3b7b",
   "metadata": {
    "vscode": {
     "languageId": "r"
    }
   },
   "outputs": [
    {
     "data": {
      "text/html": [
       "<style>\n",
       ".dl-inline {width: auto; margin:0; padding: 0}\n",
       ".dl-inline>dt, .dl-inline>dd {float: none; width: auto; display: inline-block}\n",
       ".dl-inline>dt::after {content: \":\\0020\"; padding-right: .5ex}\n",
       ".dl-inline>dt:not(:first-of-type) {padding-left: .5ex}\n",
       "</style><dl class=dl-inline><dt>A</dt><dd>1</dd><dt>B</dt><dd>3</dd></dl>\n"
      ],
      "text/latex": [
       "\\begin{description*}\n",
       "\\item[A] 1\n",
       "\\item[B] 3\n",
       "\\end{description*}\n"
      ],
      "text/markdown": [
       "A\n",
       ":   1B\n",
       ":   3\n",
       "\n"
      ],
      "text/plain": [
       "A B \n",
       "1 3 "
      ]
     },
     "metadata": {},
     "output_type": "display_data"
    },
    {
     "data": {
      "text/plain": [
       "predBatch\n",
       "A B \n",
       "1 3 "
      ]
     },
     "metadata": {},
     "output_type": "display_data"
    }
   ],
   "source": [
    "testBatch <- matrix(c(4,4, 3,3, 5,6, 7,7), ncol=2, byrow=TRUE)\n",
    "predBatch <- knn(train, testBatch, cl, k=3)\n",
    "summary(predBatch)\n",
    "table(predBatch)  # count per class"
   ]
  },
  {
   "cell_type": "markdown",
   "id": "29859a89",
   "metadata": {},
   "source": [
    "The table shows how many of the four test points are classified into each class.\n",
    "- 1 point is classified as Class A\n",
    "\n",
    "- 3 points are classified as Class B"
   ]
  },
  {
   "cell_type": "markdown",
   "id": "42bc180c",
   "metadata": {},
   "source": [
    "## Conclusion\n",
    "Using the `class::knn()` function in R:\n",
    "\n",
    "- The two class clusters are well separated on the chart.\n",
    "\n",
    "- Classification depends on both the distance of each test point and the number of neighbors **k**.\n",
    "\n",
    "- Increasing **k** can change the result, as seen for point (3.5,3.5), which switches from Class A at k=1 to Class B at k=3."
   ]
  }
 ],
 "metadata": {
  "kernelspec": {
   "display_name": "R",
   "language": "R",
   "name": "ir"
  },
  "language_info": {
   "codemirror_mode": "r",
   "file_extension": ".r",
   "mimetype": "text/x-r-source",
   "name": "R",
   "pygments_lexer": "r",
   "version": "4.4.3"
  }
 },
 "nbformat": 4,
 "nbformat_minor": 5
}
