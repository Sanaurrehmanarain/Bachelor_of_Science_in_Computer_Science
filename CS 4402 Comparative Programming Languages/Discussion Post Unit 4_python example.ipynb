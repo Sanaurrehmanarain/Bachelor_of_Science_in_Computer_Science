{
 "cells": [
  {
   "cell_type": "code",
   "execution_count": 1,
   "id": "16927c67",
   "metadata": {},
   "outputs": [
    {
     "name": "stdout",
     "output_type": "stream",
     "text": [
      "Original array: [38, 27, 43, 3, 9, 82, 10]\n",
      "Sorted array: [3, 9, 10, 27, 38, 43, 82]\n"
     ]
    }
   ],
   "source": [
    "def merge_sort(arr):\n",
    "    \"\"\"\n",
    "    Recursively sorts an array using merge sort.\n",
    "    \"\"\"\n",
    "\n",
    "    # Base case: arrays with 0 or 1 element are already sorted\n",
    "    if len(arr) <= 1:\n",
    "        return arr\n",
    "\n",
    "    # Step 1: Split the array into two halves\n",
    "    mid = len(arr) // 2\n",
    "    left_half = arr[:mid]\n",
    "    right_half = arr[mid:]\n",
    "\n",
    "    # Step 2: Recursively sort each half\n",
    "    sorted_left = merge_sort(left_half)\n",
    "    sorted_right = merge_sort(right_half)\n",
    "\n",
    "    # Step 3: Merge the two sorted halves\n",
    "    return merge(sorted_left, sorted_right)\n",
    "\n",
    "\n",
    "def merge(left, right):\n",
    "    \"\"\"\n",
    "    Merges two sorted arrays into a single sorted array.\n",
    "    \"\"\"\n",
    "    result = []\n",
    "    i = j = 0\n",
    "\n",
    "    # Compare elements and take the smaller one\n",
    "    while i < len(left) and j < len(right):\n",
    "        if left[i] <= right[j]:\n",
    "            result.append(left[i])\n",
    "            i += 1\n",
    "        else:\n",
    "            result.append(right[j])\n",
    "            j += 1\n",
    "\n",
    "    # Append any remaining elements\n",
    "    result.extend(left[i:])\n",
    "    result.extend(right[j:])\n",
    "\n",
    "    return result\n",
    "\n",
    "\n",
    "# Example usage\n",
    "arr = [38, 27, 43, 3, 9, 82, 10]\n",
    "print(\"Original array:\", arr)\n",
    "sorted_arr = merge_sort(arr)\n",
    "print(\"Sorted array:\", sorted_arr)"
   ]
  },
  {
   "cell_type": "markdown",
   "id": "9579a4b6",
   "metadata": {},
   "source": [
    "## How the recursion works step by step\n",
    "\n",
    "### Divide  \n",
    "The array `[38, 27, 43, 3, 9, 82, 10]` is split in half repeatedly:\n",
    "\n",
    "- First split → `[38, 27, 43]` and `[3, 9, 82, 10]`  \n",
    "- Then `[38, 27, 43]` → `[38]` and `[27, 43]`  \n",
    "- And `[27, 43]` → `[27]` and `[43]`  \n",
    "- This continues until all subarrays are of size 1.  \n",
    "\n",
    "### Conquer (sort subarrays)  \n",
    "Arrays of size 1 are already sorted.  \n",
    "\n",
    "### Combine (merge)  \n",
    "The `merge` function takes two sorted arrays and produces a single sorted array. For example:  \n",
    "\n",
    "- Merge `[27]` and `[43]` → `[27, 43]`  \n",
    "- Merge `[38]` and `[27, 43]` → `[27, 38, 43]`  \n",
    "- Eventually merge `[27, 38, 43]` with `[3, 9, 10, 82]` → `[3, 9, 10, 27, 38, 43, 82]`  \n",
    "\n",
    "---\n",
    "\n",
    "This recursive divide-and-conquer approach ensures an **O(n log n)** runtime."
   ]
  },
  {
   "cell_type": "markdown",
   "id": "ea47e267",
   "metadata": {},
   "source": [
    "## Merge Sort Recursion Tree (Example)\n",
    "\n",
    "Original Array: [38, 27, 43, 3, 9, 82, 10]"
   ]
  },
  {
   "cell_type": "markdown",
   "id": "10eacd5b",
   "metadata": {},
   "source": [
    "                      [38, 27, 43, 3, 9, 82, 10]\n",
    "                       /                       \\\n",
    "          [38, 27, 43]                         [3, 9, 82, 10]\n",
    "           /       \\                             /         \\\n",
    "      [38]       [27, 43]                 [3, 9]           [82, 10]\n",
    "                 /     \\                  /   \\             /    \\\n",
    "              [27]     [43]            [3]   [9]        [82]    [10]"
   ]
  },
  {
   "cell_type": "markdown",
   "id": "253b73b8",
   "metadata": {},
   "source": [
    "\n",
    "### Merge Steps\n",
    "1. [27] + [43] → [27, 43]  \n",
    "2. [38] + [27, 43] → [27, 38, 43]  \n",
    "3. [3] + [9] → [3, 9]  \n",
    "4. [82] + [10] → [10, 82]  \n",
    "5. [3, 9] + [10, 82] → [3, 9, 10, 82]  \n",
    "6. [27, 38, 43] + [3, 9, 10, 82] → [3, 9, 10, 27, 38, 43, 82]\n",
    "\n",
    "---\n",
    "Final Sorted Array: **[3, 9, 10, 27, 38, 43, 82]**"
   ]
  }
 ],
 "metadata": {
  "kernelspec": {
   "display_name": "myenv",
   "language": "python",
   "name": "python3"
  },
  "language_info": {
   "codemirror_mode": {
    "name": "ipython",
    "version": 3
   },
   "file_extension": ".py",
   "mimetype": "text/x-python",
   "name": "python",
   "nbconvert_exporter": "python",
   "pygments_lexer": "ipython3",
   "version": "3.13.5"
  }
 },
 "nbformat": 4,
 "nbformat_minor": 5
}
